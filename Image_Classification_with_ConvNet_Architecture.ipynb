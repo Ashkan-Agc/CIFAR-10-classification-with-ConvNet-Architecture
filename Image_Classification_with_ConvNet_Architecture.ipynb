{
  "nbformat": 4,
  "nbformat_minor": 0,
  "metadata": {
    "colab": {
      "name": "Image-Classification-with-ConvNet-Architecture.ipynb",
      "provenance": [],
      "collapsed_sections": [],
      "toc_visible": true,
      "authorship_tag": "ABX9TyPqitilhmHJdAtGR8Ji1YAz",
      "include_colab_link": true
    },
    "kernelspec": {
      "name": "python3",
      "display_name": "Python 3"
    },
    "language_info": {
      "name": "python"
    },
    "accelerator": "GPU"
  },
  "cells": [
    {
      "cell_type": "markdown",
      "metadata": {
        "id": "view-in-github",
        "colab_type": "text"
      },
      "source": [
        "<a href=\"https://colab.research.google.com/github/Ashkan-Agc/Image-Classification-with-ConvNet-Architecture/blob/main/Image_Classification_with_ConvNet_Architecture.ipynb\" target=\"_parent\"><img src=\"https://colab.research.google.com/assets/colab-badge.svg\" alt=\"Open In Colab\"/></a>"
      ]
    },
    {
      "cell_type": "code",
      "metadata": {
        "id": "PY2A7YzNqWQy"
      },
      "source": [
        "import keras\n",
        "from keras.datasets import cifar10\n",
        "from keras.models import Sequential\n",
        "from keras.layers import Dense, Dropout, Flatten, Conv2D, MaxPooling2D\n",
        "from pathlib import Path\n",
        "from matplotlib import pyplot as plt"
      ],
      "execution_count": 1,
      "outputs": []
    },
    {
      "cell_type": "code",
      "metadata": {
        "id": "826KZYtYs9ci"
      },
      "source": [
        "# Load data set\n",
        "(x_train, y_train), (x_test, y_test) = cifar10.load_data()"
      ],
      "execution_count": 2,
      "outputs": []
    },
    {
      "cell_type": "code",
      "metadata": {
        "id": "bZ2XmLZus_5l"
      },
      "source": [
        "# Normalize data set to 0-to-1 range\n",
        "x_train = x_train.astype('float32')\n",
        "x_test = x_test.astype('float32')\n",
        "x_train /= 255\n",
        "x_test /= 255"
      ],
      "execution_count": 3,
      "outputs": []
    },
    {
      "cell_type": "code",
      "metadata": {
        "id": "Z_M68K3GtWOe"
      },
      "source": [
        "# Convert class vectors to binary class matrices\n",
        "y_train = keras.utils.to_categorical(y_train, 10)\n",
        "y_test = keras.utils.to_categorical(y_test, 10)"
      ],
      "execution_count": 4,
      "outputs": []
    },
    {
      "cell_type": "code",
      "metadata": {
        "id": "4LPOK5ukz5tr"
      },
      "source": [
        "# Create a model and add layers\n",
        "model = Sequential()\n",
        "\n",
        "model.add(Conv2D(32, (3, 3), padding='same', input_shape=(32, 32, 3), activation=\"relu\"))\n",
        "model.add(Conv2D(32, (3, 3), activation=\"relu\"))\n",
        "model.add(MaxPooling2D(pool_size=(2, 2)))\n",
        "model.add(Dropout(0.25))\n",
        "\n",
        "model.add(Conv2D(64, (3, 3), padding='same', activation=\"relu\"))\n",
        "model.add(Conv2D(64, (3, 3), activation=\"relu\"))\n",
        "model.add(MaxPooling2D(pool_size=(2, 2)))\n",
        "model.add(Dropout(0.25))\n",
        "\n",
        "model.add(Flatten())\n",
        "model.add(Dense(512, activation=\"relu\"))\n",
        "model.add(Dropout(0.5))\n",
        "model.add(Dense(10, activation=\"softmax\"))"
      ],
      "execution_count": 5,
      "outputs": []
    },
    {
      "cell_type": "code",
      "metadata": {
        "id": "ORL2zfpqz89_"
      },
      "source": [
        "# Compile the model\n",
        "model.compile(\n",
        "    loss='categorical_crossentropy',\n",
        "    optimizer='adam',\n",
        "    metrics=['accuracy']\n",
        ")"
      ],
      "execution_count": 6,
      "outputs": []
    },
    {
      "cell_type": "code",
      "metadata": {
        "colab": {
          "base_uri": "https://localhost:8080/",
          "height": 1000
        },
        "id": "itB26LoH0Aww",
        "outputId": "d082c1bf-ea5e-4811-f2db-c1abbcfb64f9"
      },
      "source": [
        "# Train the model\n",
        "history = model.fit(\n",
        "    x_train,\n",
        "    y_train,\n",
        "    batch_size=64,\n",
        "    epochs=100,\n",
        "    validation_data=(x_test, y_test),\n",
        "    shuffle=True\n",
        ")\n",
        "\n",
        "plt.plot(history.history['accuracy'])\n",
        "plt.plot(history.history['val_accuracy'])\n",
        "plt.title('model accuracy')\n",
        "plt.ylabel('accuracy')\n",
        "plt.xlabel('epoch')\n",
        "plt.legend(['train', 'test'], loc='upper left')\n",
        "plt.show()\n",
        "\n",
        "plt.plot(history.history['loss'])\n",
        "plt.plot(history.history['val_loss'])\n",
        "plt.title('model loss')\n",
        "plt.ylabel('loss')\n",
        "plt.xlabel('epoch')\n",
        "plt.legend(['train', 'test'], loc='upper left')\n",
        "plt.show()"
      ],
      "execution_count": 10,
      "outputs": [
        {
          "output_type": "stream",
          "text": [
            "Epoch 1/100\n",
            "782/782 [==============================] - 4s 6ms/step - loss: 0.2286 - accuracy: 0.9213 - val_loss: 0.7310 - val_accuracy: 0.8117\n",
            "Epoch 2/100\n",
            "782/782 [==============================] - 4s 5ms/step - loss: 0.2208 - accuracy: 0.9261 - val_loss: 0.7248 - val_accuracy: 0.8132\n",
            "Epoch 3/100\n",
            "782/782 [==============================] - 4s 5ms/step - loss: 0.2320 - accuracy: 0.9219 - val_loss: 0.7090 - val_accuracy: 0.8133\n",
            "Epoch 4/100\n",
            "782/782 [==============================] - 4s 5ms/step - loss: 0.2286 - accuracy: 0.9222 - val_loss: 0.7287 - val_accuracy: 0.8031\n",
            "Epoch 5/100\n",
            "782/782 [==============================] - 4s 5ms/step - loss: 0.2189 - accuracy: 0.9261 - val_loss: 0.6901 - val_accuracy: 0.8149\n",
            "Epoch 6/100\n",
            "782/782 [==============================] - 4s 5ms/step - loss: 0.2250 - accuracy: 0.9234 - val_loss: 0.7132 - val_accuracy: 0.8047\n",
            "Epoch 7/100\n",
            "782/782 [==============================] - 4s 5ms/step - loss: 0.2216 - accuracy: 0.9255 - val_loss: 0.6919 - val_accuracy: 0.8074\n",
            "Epoch 8/100\n",
            "782/782 [==============================] - 4s 5ms/step - loss: 0.2188 - accuracy: 0.9262 - val_loss: 0.7329 - val_accuracy: 0.8108\n",
            "Epoch 9/100\n",
            "782/782 [==============================] - 4s 5ms/step - loss: 0.2183 - accuracy: 0.9250 - val_loss: 0.7233 - val_accuracy: 0.8094\n",
            "Epoch 10/100\n",
            "782/782 [==============================] - 4s 5ms/step - loss: 0.2170 - accuracy: 0.9256 - val_loss: 0.7496 - val_accuracy: 0.8094\n",
            "Epoch 11/100\n",
            "782/782 [==============================] - 4s 5ms/step - loss: 0.2213 - accuracy: 0.9248 - val_loss: 0.7473 - val_accuracy: 0.8096\n",
            "Epoch 12/100\n",
            "782/782 [==============================] - 4s 5ms/step - loss: 0.2217 - accuracy: 0.9238 - val_loss: 0.7456 - val_accuracy: 0.8055\n",
            "Epoch 13/100\n",
            "782/782 [==============================] - 4s 5ms/step - loss: 0.2149 - accuracy: 0.9269 - val_loss: 0.7234 - val_accuracy: 0.8063\n",
            "Epoch 14/100\n",
            "782/782 [==============================] - 4s 5ms/step - loss: 0.2230 - accuracy: 0.9236 - val_loss: 0.7352 - val_accuracy: 0.8117\n",
            "Epoch 15/100\n",
            "782/782 [==============================] - 4s 5ms/step - loss: 0.2207 - accuracy: 0.9258 - val_loss: 0.7111 - val_accuracy: 0.8131\n",
            "Epoch 16/100\n",
            "782/782 [==============================] - 4s 5ms/step - loss: 0.2175 - accuracy: 0.9271 - val_loss: 0.7040 - val_accuracy: 0.8113\n",
            "Epoch 17/100\n",
            "782/782 [==============================] - 4s 5ms/step - loss: 0.2156 - accuracy: 0.9269 - val_loss: 0.7499 - val_accuracy: 0.8108\n",
            "Epoch 18/100\n",
            "782/782 [==============================] - 4s 5ms/step - loss: 0.2145 - accuracy: 0.9279 - val_loss: 0.7764 - val_accuracy: 0.8038\n",
            "Epoch 19/100\n",
            "782/782 [==============================] - 4s 5ms/step - loss: 0.2148 - accuracy: 0.9273 - val_loss: 0.7534 - val_accuracy: 0.8092\n",
            "Epoch 20/100\n",
            "782/782 [==============================] - 4s 5ms/step - loss: 0.2223 - accuracy: 0.9247 - val_loss: 0.7180 - val_accuracy: 0.8089\n",
            "Epoch 21/100\n",
            "782/782 [==============================] - 4s 5ms/step - loss: 0.2175 - accuracy: 0.9255 - val_loss: 0.7000 - val_accuracy: 0.8132\n",
            "Epoch 22/100\n",
            "782/782 [==============================] - 4s 5ms/step - loss: 0.2090 - accuracy: 0.9287 - val_loss: 0.7483 - val_accuracy: 0.8110\n",
            "Epoch 23/100\n",
            "782/782 [==============================] - 4s 5ms/step - loss: 0.2160 - accuracy: 0.9265 - val_loss: 0.7173 - val_accuracy: 0.8140\n",
            "Epoch 24/100\n",
            "782/782 [==============================] - 4s 5ms/step - loss: 0.2188 - accuracy: 0.9260 - val_loss: 0.7446 - val_accuracy: 0.8141\n",
            "Epoch 25/100\n",
            "782/782 [==============================] - 4s 5ms/step - loss: 0.2145 - accuracy: 0.9276 - val_loss: 0.7200 - val_accuracy: 0.8123\n",
            "Epoch 26/100\n",
            "782/782 [==============================] - 4s 5ms/step - loss: 0.2057 - accuracy: 0.9308 - val_loss: 0.7162 - val_accuracy: 0.8113\n",
            "Epoch 27/100\n",
            "782/782 [==============================] - 4s 5ms/step - loss: 0.2182 - accuracy: 0.9254 - val_loss: 0.7209 - val_accuracy: 0.8136\n",
            "Epoch 28/100\n",
            "782/782 [==============================] - 4s 5ms/step - loss: 0.2054 - accuracy: 0.9311 - val_loss: 0.7350 - val_accuracy: 0.8103\n",
            "Epoch 29/100\n",
            "782/782 [==============================] - 4s 5ms/step - loss: 0.2110 - accuracy: 0.9290 - val_loss: 0.7106 - val_accuracy: 0.8115\n",
            "Epoch 30/100\n",
            "782/782 [==============================] - 4s 5ms/step - loss: 0.2089 - accuracy: 0.9287 - val_loss: 0.7166 - val_accuracy: 0.8091\n",
            "Epoch 31/100\n",
            "782/782 [==============================] - 4s 5ms/step - loss: 0.2085 - accuracy: 0.9293 - val_loss: 0.7286 - val_accuracy: 0.8154\n",
            "Epoch 32/100\n",
            "782/782 [==============================] - 4s 5ms/step - loss: 0.2013 - accuracy: 0.9324 - val_loss: 0.7802 - val_accuracy: 0.8042\n",
            "Epoch 33/100\n",
            "782/782 [==============================] - 4s 5ms/step - loss: 0.2082 - accuracy: 0.9307 - val_loss: 0.7582 - val_accuracy: 0.8092\n",
            "Epoch 34/100\n",
            "782/782 [==============================] - 4s 5ms/step - loss: 0.2112 - accuracy: 0.9280 - val_loss: 0.7543 - val_accuracy: 0.8087\n",
            "Epoch 35/100\n",
            "782/782 [==============================] - 4s 5ms/step - loss: 0.2041 - accuracy: 0.9323 - val_loss: 0.7661 - val_accuracy: 0.8081\n",
            "Epoch 36/100\n",
            "782/782 [==============================] - 4s 5ms/step - loss: 0.2126 - accuracy: 0.9286 - val_loss: 0.7277 - val_accuracy: 0.8098\n",
            "Epoch 37/100\n",
            "782/782 [==============================] - 4s 5ms/step - loss: 0.2054 - accuracy: 0.9328 - val_loss: 0.7254 - val_accuracy: 0.8106\n",
            "Epoch 38/100\n",
            "782/782 [==============================] - 4s 5ms/step - loss: 0.2066 - accuracy: 0.9302 - val_loss: 0.7272 - val_accuracy: 0.8122\n",
            "Epoch 39/100\n",
            "782/782 [==============================] - 4s 5ms/step - loss: 0.2103 - accuracy: 0.9305 - val_loss: 0.7611 - val_accuracy: 0.8091\n",
            "Epoch 40/100\n",
            "782/782 [==============================] - 4s 5ms/step - loss: 0.2028 - accuracy: 0.9315 - val_loss: 0.7218 - val_accuracy: 0.8146\n",
            "Epoch 41/100\n",
            "782/782 [==============================] - 4s 5ms/step - loss: 0.2059 - accuracy: 0.9310 - val_loss: 0.7554 - val_accuracy: 0.8073\n",
            "Epoch 42/100\n",
            "782/782 [==============================] - 4s 5ms/step - loss: 0.2068 - accuracy: 0.9311 - val_loss: 0.7502 - val_accuracy: 0.8108\n",
            "Epoch 43/100\n",
            "782/782 [==============================] - 4s 5ms/step - loss: 0.2003 - accuracy: 0.9323 - val_loss: 0.7513 - val_accuracy: 0.8117\n",
            "Epoch 44/100\n",
            "782/782 [==============================] - 4s 5ms/step - loss: 0.2076 - accuracy: 0.9303 - val_loss: 0.7318 - val_accuracy: 0.8141\n",
            "Epoch 45/100\n",
            "782/782 [==============================] - 4s 5ms/step - loss: 0.2032 - accuracy: 0.9311 - val_loss: 0.7512 - val_accuracy: 0.8100\n",
            "Epoch 46/100\n",
            "782/782 [==============================] - 4s 5ms/step - loss: 0.2031 - accuracy: 0.9320 - val_loss: 0.7323 - val_accuracy: 0.8100\n",
            "Epoch 47/100\n",
            "782/782 [==============================] - 4s 5ms/step - loss: 0.2034 - accuracy: 0.9304 - val_loss: 0.7424 - val_accuracy: 0.8149\n",
            "Epoch 48/100\n",
            "782/782 [==============================] - 4s 5ms/step - loss: 0.2075 - accuracy: 0.9315 - val_loss: 0.7266 - val_accuracy: 0.8164\n",
            "Epoch 49/100\n",
            "782/782 [==============================] - 4s 5ms/step - loss: 0.1973 - accuracy: 0.9333 - val_loss: 0.7934 - val_accuracy: 0.8094\n",
            "Epoch 50/100\n",
            "782/782 [==============================] - 4s 5ms/step - loss: 0.2139 - accuracy: 0.9301 - val_loss: 0.7626 - val_accuracy: 0.8129\n",
            "Epoch 51/100\n",
            "782/782 [==============================] - 4s 5ms/step - loss: 0.2041 - accuracy: 0.9314 - val_loss: 0.7498 - val_accuracy: 0.8138\n",
            "Epoch 52/100\n",
            "782/782 [==============================] - 4s 5ms/step - loss: 0.2073 - accuracy: 0.9305 - val_loss: 0.7372 - val_accuracy: 0.8093\n",
            "Epoch 53/100\n",
            "782/782 [==============================] - 4s 5ms/step - loss: 0.2040 - accuracy: 0.9308 - val_loss: 0.7246 - val_accuracy: 0.8101\n",
            "Epoch 54/100\n",
            "782/782 [==============================] - 4s 5ms/step - loss: 0.2050 - accuracy: 0.9304 - val_loss: 0.7685 - val_accuracy: 0.8063\n",
            "Epoch 55/100\n",
            "782/782 [==============================] - 4s 5ms/step - loss: 0.2002 - accuracy: 0.9336 - val_loss: 0.7470 - val_accuracy: 0.8146\n",
            "Epoch 56/100\n",
            "782/782 [==============================] - 4s 5ms/step - loss: 0.2016 - accuracy: 0.9325 - val_loss: 0.7604 - val_accuracy: 0.8098\n",
            "Epoch 57/100\n",
            "782/782 [==============================] - 4s 5ms/step - loss: 0.1971 - accuracy: 0.9337 - val_loss: 0.7531 - val_accuracy: 0.8128\n",
            "Epoch 58/100\n",
            "782/782 [==============================] - 4s 5ms/step - loss: 0.2079 - accuracy: 0.9316 - val_loss: 0.7095 - val_accuracy: 0.8118\n",
            "Epoch 59/100\n",
            "782/782 [==============================] - 4s 5ms/step - loss: 0.1961 - accuracy: 0.9333 - val_loss: 0.7340 - val_accuracy: 0.8168\n",
            "Epoch 60/100\n",
            "782/782 [==============================] - 4s 5ms/step - loss: 0.2003 - accuracy: 0.9320 - val_loss: 0.7434 - val_accuracy: 0.8111\n",
            "Epoch 61/100\n",
            "782/782 [==============================] - 4s 5ms/step - loss: 0.2060 - accuracy: 0.9309 - val_loss: 0.7911 - val_accuracy: 0.8070\n",
            "Epoch 62/100\n",
            "782/782 [==============================] - 4s 5ms/step - loss: 0.2001 - accuracy: 0.9330 - val_loss: 0.7205 - val_accuracy: 0.8099\n",
            "Epoch 63/100\n",
            "782/782 [==============================] - 4s 5ms/step - loss: 0.2013 - accuracy: 0.9322 - val_loss: 0.7296 - val_accuracy: 0.8071\n",
            "Epoch 64/100\n",
            "782/782 [==============================] - 4s 5ms/step - loss: 0.1935 - accuracy: 0.9362 - val_loss: 0.7325 - val_accuracy: 0.8093\n",
            "Epoch 65/100\n",
            "782/782 [==============================] - 4s 5ms/step - loss: 0.1972 - accuracy: 0.9344 - val_loss: 0.7710 - val_accuracy: 0.8102\n",
            "Epoch 66/100\n",
            "782/782 [==============================] - 4s 6ms/step - loss: 0.2025 - accuracy: 0.9323 - val_loss: 0.7514 - val_accuracy: 0.8086\n",
            "Epoch 67/100\n",
            "782/782 [==============================] - 4s 6ms/step - loss: 0.2055 - accuracy: 0.9324 - val_loss: 0.7582 - val_accuracy: 0.8131\n",
            "Epoch 68/100\n",
            "782/782 [==============================] - 4s 6ms/step - loss: 0.1969 - accuracy: 0.9344 - val_loss: 0.7563 - val_accuracy: 0.8080\n",
            "Epoch 69/100\n",
            "782/782 [==============================] - 4s 5ms/step - loss: 0.1998 - accuracy: 0.9345 - val_loss: 0.7615 - val_accuracy: 0.8068\n",
            "Epoch 70/100\n",
            "782/782 [==============================] - 4s 5ms/step - loss: 0.1963 - accuracy: 0.9353 - val_loss: 0.7274 - val_accuracy: 0.8073\n",
            "Epoch 71/100\n",
            "782/782 [==============================] - 4s 5ms/step - loss: 0.1920 - accuracy: 0.9367 - val_loss: 0.7633 - val_accuracy: 0.8110\n",
            "Epoch 72/100\n",
            "782/782 [==============================] - 4s 5ms/step - loss: 0.1954 - accuracy: 0.9349 - val_loss: 0.7560 - val_accuracy: 0.8126\n",
            "Epoch 73/100\n",
            "782/782 [==============================] - 4s 5ms/step - loss: 0.2009 - accuracy: 0.9326 - val_loss: 0.7736 - val_accuracy: 0.8121\n",
            "Epoch 74/100\n",
            "782/782 [==============================] - 4s 5ms/step - loss: 0.1974 - accuracy: 0.9349 - val_loss: 0.7481 - val_accuracy: 0.8139\n",
            "Epoch 75/100\n",
            "782/782 [==============================] - 4s 5ms/step - loss: 0.1910 - accuracy: 0.9372 - val_loss: 0.7869 - val_accuracy: 0.8079\n",
            "Epoch 76/100\n",
            "782/782 [==============================] - 4s 5ms/step - loss: 0.2049 - accuracy: 0.9307 - val_loss: 0.7665 - val_accuracy: 0.8028\n",
            "Epoch 77/100\n",
            "782/782 [==============================] - 4s 5ms/step - loss: 0.1925 - accuracy: 0.9355 - val_loss: 0.7592 - val_accuracy: 0.8119\n",
            "Epoch 78/100\n",
            "782/782 [==============================] - 4s 5ms/step - loss: 0.1927 - accuracy: 0.9348 - val_loss: 0.7370 - val_accuracy: 0.8095\n",
            "Epoch 79/100\n",
            "782/782 [==============================] - 4s 5ms/step - loss: 0.1948 - accuracy: 0.9345 - val_loss: 0.7623 - val_accuracy: 0.8140\n",
            "Epoch 80/100\n",
            "782/782 [==============================] - 4s 5ms/step - loss: 0.1992 - accuracy: 0.9341 - val_loss: 0.7548 - val_accuracy: 0.8102\n",
            "Epoch 81/100\n",
            "782/782 [==============================] - 4s 5ms/step - loss: 0.1906 - accuracy: 0.9368 - val_loss: 0.7321 - val_accuracy: 0.8090\n",
            "Epoch 82/100\n",
            "782/782 [==============================] - 4s 6ms/step - loss: 0.1982 - accuracy: 0.9339 - val_loss: 0.7538 - val_accuracy: 0.8137\n",
            "Epoch 83/100\n",
            "782/782 [==============================] - 4s 5ms/step - loss: 0.1925 - accuracy: 0.9354 - val_loss: 0.8318 - val_accuracy: 0.7987\n",
            "Epoch 84/100\n",
            "782/782 [==============================] - 4s 5ms/step - loss: 0.1987 - accuracy: 0.9329 - val_loss: 0.7958 - val_accuracy: 0.8109\n",
            "Epoch 85/100\n",
            "782/782 [==============================] - 4s 5ms/step - loss: 0.2022 - accuracy: 0.9340 - val_loss: 0.7602 - val_accuracy: 0.8073\n",
            "Epoch 86/100\n",
            "782/782 [==============================] - 4s 5ms/step - loss: 0.1938 - accuracy: 0.9360 - val_loss: 0.7060 - val_accuracy: 0.8069\n",
            "Epoch 87/100\n",
            "782/782 [==============================] - 4s 5ms/step - loss: 0.1935 - accuracy: 0.9365 - val_loss: 0.7198 - val_accuracy: 0.8150\n",
            "Epoch 88/100\n",
            "782/782 [==============================] - 4s 5ms/step - loss: 0.2024 - accuracy: 0.9314 - val_loss: 0.7216 - val_accuracy: 0.8160\n",
            "Epoch 89/100\n",
            "782/782 [==============================] - 4s 5ms/step - loss: 0.1956 - accuracy: 0.9343 - val_loss: 0.7058 - val_accuracy: 0.8154\n",
            "Epoch 90/100\n",
            "782/782 [==============================] - 4s 5ms/step - loss: 0.1976 - accuracy: 0.9347 - val_loss: 0.7287 - val_accuracy: 0.8141\n",
            "Epoch 91/100\n",
            "782/782 [==============================] - 4s 5ms/step - loss: 0.1933 - accuracy: 0.9361 - val_loss: 0.7396 - val_accuracy: 0.8063\n",
            "Epoch 92/100\n",
            "782/782 [==============================] - 4s 6ms/step - loss: 0.1892 - accuracy: 0.9369 - val_loss: 0.7426 - val_accuracy: 0.8180\n",
            "Epoch 93/100\n",
            "782/782 [==============================] - 4s 6ms/step - loss: 0.1880 - accuracy: 0.9372 - val_loss: 0.7463 - val_accuracy: 0.8111\n",
            "Epoch 94/100\n",
            "782/782 [==============================] - 4s 5ms/step - loss: 0.2029 - accuracy: 0.9327 - val_loss: 0.7565 - val_accuracy: 0.8125\n",
            "Epoch 95/100\n",
            "782/782 [==============================] - 4s 5ms/step - loss: 0.1869 - accuracy: 0.9385 - val_loss: 0.7321 - val_accuracy: 0.8162\n",
            "Epoch 96/100\n",
            "782/782 [==============================] - 4s 5ms/step - loss: 0.1914 - accuracy: 0.9355 - val_loss: 0.7440 - val_accuracy: 0.8107\n",
            "Epoch 97/100\n",
            "782/782 [==============================] - 4s 5ms/step - loss: 0.1921 - accuracy: 0.9372 - val_loss: 0.7719 - val_accuracy: 0.8067\n",
            "Epoch 98/100\n",
            "782/782 [==============================] - 4s 5ms/step - loss: 0.1902 - accuracy: 0.9361 - val_loss: 0.8249 - val_accuracy: 0.8112\n",
            "Epoch 99/100\n",
            "782/782 [==============================] - 4s 5ms/step - loss: 0.1899 - accuracy: 0.9372 - val_loss: 0.7534 - val_accuracy: 0.8129\n",
            "Epoch 100/100\n",
            "782/782 [==============================] - 4s 6ms/step - loss: 0.1854 - accuracy: 0.9393 - val_loss: 0.7683 - val_accuracy: 0.8090\n"
          ],
          "name": "stdout"
        },
        {
          "output_type": "display_data",
          "data": {
            "image/png": "[encoded data removed]",
            "text/plain": [
              "<Figure size 432x288 with 1 Axes>"
            ]
          },
          "metadata": {
            "tags": [],
            "needs_background": "light"
          }
        },
        {
          "output_type": "display_data",
          "data": {
            "image/png": "[encoded data removed]",
            "text/plain": [
              "<Figure size 432x288 with 1 Axes>"
            ]
          },
          "metadata": {
            "tags": [],
            "needs_background": "light"
          }
        }
      ]
    },
    {
      "cell_type": "code",
      "metadata": {
        "id": "f36PexTd0J7X"
      },
      "source": [
        "# Save neural network structure\n",
        "model_structure = model.to_json()\n",
        "f = Path(\"model_structure.json\")\n",
        "f.write_text(model_structure)\n",
        "\n",
        "# Save neural network's trained weights\n",
        "model.save_weights(\"model_weights.h5\")\n"
      ],
      "execution_count": 13,
      "outputs": []
    },
    {
      "cell_type": "code",
      "metadata": {
        "colab": {
          "base_uri": "https://localhost:8080/"
        },
        "id": "QHGHchZN_zY2",
        "outputId": "e822d87f-d8d5-44f4-da73-e74448db68be"
      },
      "source": [
        "model.summary()"
      ],
      "execution_count": 12,
      "outputs": [
        {
          "output_type": "stream",
          "text": [
            "Model: \"sequential\"\n",
            "_________________________________________________________________\n",
            "Layer (type)                 Output Shape              Param #   \n",
            "=================================================================\n",
            "conv2d (Conv2D)              (None, 32, 32, 32)        896       \n",
            "_________________________________________________________________\n",
            "conv2d_1 (Conv2D)            (None, 30, 30, 32)        9248      \n",
            "_________________________________________________________________\n",
            "max_pooling2d (MaxPooling2D) (None, 15, 15, 32)        0         \n",
            "_________________________________________________________________\n",
            "dropout (Dropout)            (None, 15, 15, 32)        0         \n",
            "_________________________________________________________________\n",
            "conv2d_2 (Conv2D)            (None, 15, 15, 64)        18496     \n",
            "_________________________________________________________________\n",
            "conv2d_3 (Conv2D)            (None, 13, 13, 64)        36928     \n",
            "_________________________________________________________________\n",
            "max_pooling2d_1 (MaxPooling2 (None, 6, 6, 64)          0         \n",
            "_________________________________________________________________\n",
            "dropout_1 (Dropout)          (None, 6, 6, 64)          0         \n",
            "_________________________________________________________________\n",
            "flatten (Flatten)            (None, 2304)              0         \n",
            "_________________________________________________________________\n",
            "dense (Dense)                (None, 512)               1180160   \n",
            "_________________________________________________________________\n",
            "dropout_2 (Dropout)          (None, 512)               0         \n",
            "_________________________________________________________________\n",
            "dense_1 (Dense)              (None, 10)                5130      \n",
            "=================================================================\n",
            "Total params: 1,250,858\n",
            "Trainable params: 1,250,858\n",
            "Non-trainable params: 0\n",
            "_________________________________________________________________\n"
          ],
          "name": "stdout"
        }
      ]
    },
    {
      "cell_type": "code",
      "metadata": {
        "id": "_KX431DZDgpo"
      },
      "source": [
        ""
      ],
      "execution_count": null,
      "outputs": []
    }
  ]
}