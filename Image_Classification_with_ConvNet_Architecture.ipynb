{
  "nbformat": 4,
  "nbformat_minor": 0,
  "metadata": {
    "colab": {
      "name": "Image-Classification-with-ConvNet-Architecture.ipynb",
      "provenance": [],
      "collapsed_sections": [],
      "toc_visible": true,
      "authorship_tag": "ABX9TyPcs/FspLzmMbMZ5bgCVPt3",
      "include_colab_link": true
    },
    "kernelspec": {
      "name": "python3",
      "display_name": "Python 3"
    },
    "language_info": {
      "name": "python"
    },
    "accelerator": "GPU"
  },
  "cells": [
    {
      "cell_type": "markdown",
      "metadata": {
        "id": "view-in-github",
        "colab_type": "text"
      },
      "source": [
        "<a href=\"https://colab.research.google.com/github/Ashkan-Agc/Image-Classification-with-ConvNet-Architecture/blob/main/Image_Classification_with_ConvNet_Architecture.ipynb\" target=\"_parent\"><img src=\"https://colab.research.google.com/assets/colab-badge.svg\" alt=\"Open In Colab\"/></a>"
      ]
    },
    {
      "cell_type": "markdown",
      "metadata": {
        "id": "XeXpF5iy46iC"
      },
      "source": [
        "# Image Classifaction with ConnNet \n",
        "I use kears and a detaset of 20000 test image"
      ]
    },
    {
      "cell_type": "code",
      "metadata": {
        "id": "PY2A7YzNqWQy"
      },
      "source": [
        "import keras\n",
        "from keras.datasets import cifar10\n",
        "from keras.models import Sequential\n",
        "from keras.layers import Dense, Dropout, Flatten, Conv2D, MaxPooling2D\n",
        "from pathlib import Path\n",
        "from matplotlib import pyplot as plt"
      ],
      "execution_count": 2,
      "outputs": []
    },
    {
      "cell_type": "markdown",
      "metadata": {
        "id": "opxnG2B245zy"
      },
      "source": [
        "Load our Dataset"
      ]
    },
    {
      "cell_type": "code",
      "metadata": {
        "id": "826KZYtYs9ci"
      },
      "source": [
        "# Load data set\n",
        "(x_train, y_train), (x_test, y_test) = cifar10.load_data()"
      ],
      "execution_count": 3,
      "outputs": []
    },
    {
      "cell_type": "code",
      "metadata": {
        "id": "bZ2XmLZus_5l"
      },
      "source": [
        "# Normalize data set to 0-to-1 range\n",
        "x_train = x_train.astype('float32')\n",
        "x_test = x_test.astype('float32')\n",
        "x_train /= 255\n",
        "x_test /= 255"
      ],
      "execution_count": 4,
      "outputs": []
    },
    {
      "cell_type": "code",
      "metadata": {
        "id": "Z_M68K3GtWOe"
      },
      "source": [
        "# Convert class vectors to binary class matrices\n",
        "y_train = keras.utils.to_categorical(y_train, 10)\n",
        "y_test = keras.utils.to_categorical(y_test, 10)"
      ],
      "execution_count": 5,
      "outputs": []
    },
    {
      "cell_type": "code",
      "metadata": {
        "id": "4LPOK5ukz5tr"
      },
      "source": [
        "# Create a model and add layers\n",
        "model = Sequential()\n",
        "\n",
        "model.add(Conv2D(32, (3, 3), padding='same', input_shape=(32, 32, 3), activation=\"relu\"))\n",
        "model.add(Conv2D(32, (3, 3), activation=\"relu\"))\n",
        "model.add(MaxPooling2D(pool_size=(2, 2)))\n",
        "model.add(Dropout(0.25))\n",
        "\n",
        "model.add(Conv2D(64, (3, 3), padding='same', activation=\"relu\"))\n",
        "model.add(Conv2D(64, (3, 3), activation=\"relu\"))\n",
        "model.add(MaxPooling2D(pool_size=(2, 2)))\n",
        "model.add(Dropout(0.25))\n",
        "\n",
        "model.add(Flatten())\n",
        "model.add(Dense(512, activation=\"relu\"))\n",
        "model.add(Dropout(0.5))\n",
        "model.add(Dense(10, activation=\"softmax\"))"
      ],
      "execution_count": 6,
      "outputs": []
    },
    {
      "cell_type": "code",
      "metadata": {
        "id": "ORL2zfpqz89_"
      },
      "source": [
        "# Compile the model\n",
        "model.compile(\n",
        "    loss='categorical_crossentropy',\n",
        "    optimizer='adam',\n",
        "    metrics=['accuracy']\n",
        ")"
      ],
      "execution_count": 7,
      "outputs": []
    },
    {
      "cell_type": "code",
      "metadata": {
        "colab": {
          "base_uri": "https://localhost:8080/",
          "height": 1000
        },
        "id": "itB26LoH0Aww",
        "outputId": "816c923b-3c3f-44e6-e48e-fb1d227f24f5"
      },
      "source": [
        "# Train the model\n",
        "history = model.fit(\n",
        "    x_train,\n",
        "    y_train,\n",
        "    batch_size=64,\n",
        "    epochs=30,\n",
        "    validation_data=(x_test, y_test),\n",
        "    shuffle=True\n",
        ")\n",
        "\n",
        "plt.plot(history.history['accuracy'])\n",
        "plt.plot(history.history['val_accuracy'])\n",
        "plt.title('model accuracy')\n",
        "plt.ylabel('accuracy')\n",
        "plt.xlabel('epoch')\n",
        "plt.legend(['train', 'test'], loc='upper left')\n",
        "plt.show()\n",
        "\n",
        "plt.plot(history.history['loss'])\n",
        "plt.plot(history.history['val_loss'])\n",
        "plt.title('model loss')\n",
        "plt.ylabel('loss')\n",
        "plt.xlabel('epoch')\n",
        "plt.legend(['train', 'test'], loc='upper left')\n",
        "plt.show()"
      ],
      "execution_count": 8,
      "outputs": [
        {
          "output_type": "stream",
          "text": [
            "Epoch 1/30\n",
            "782/782 [==============================] - 31s 8ms/step - loss: 1.7979 - accuracy: 0.3324 - val_loss: 1.2021 - val_accuracy: 0.5721\n",
            "Epoch 2/30\n",
            "782/782 [==============================] - 6s 7ms/step - loss: 1.2115 - accuracy: 0.5632 - val_loss: 0.9592 - val_accuracy: 0.6720\n",
            "Epoch 3/30\n",
            "782/782 [==============================] - 6s 7ms/step - loss: 1.0008 - accuracy: 0.6466 - val_loss: 0.8333 - val_accuracy: 0.7075\n",
            "Epoch 4/30\n",
            "782/782 [==============================] - 6s 7ms/step - loss: 0.8752 - accuracy: 0.6918 - val_loss: 0.7718 - val_accuracy: 0.7279\n",
            "Epoch 5/30\n",
            "782/782 [==============================] - 6s 7ms/step - loss: 0.8034 - accuracy: 0.7167 - val_loss: 0.7446 - val_accuracy: 0.7423\n",
            "Epoch 6/30\n",
            "782/782 [==============================] - 6s 7ms/step - loss: 0.7517 - accuracy: 0.7376 - val_loss: 0.7371 - val_accuracy: 0.7420\n",
            "Epoch 7/30\n",
            "782/782 [==============================] - 6s 7ms/step - loss: 0.7144 - accuracy: 0.7487 - val_loss: 0.6730 - val_accuracy: 0.7665\n",
            "Epoch 8/30\n",
            "782/782 [==============================] - 6s 7ms/step - loss: 0.6845 - accuracy: 0.7582 - val_loss: 0.6697 - val_accuracy: 0.7642\n",
            "Epoch 9/30\n",
            "782/782 [==============================] - 6s 7ms/step - loss: 0.6397 - accuracy: 0.7762 - val_loss: 0.6750 - val_accuracy: 0.7710\n",
            "Epoch 10/30\n",
            "782/782 [==============================] - 6s 7ms/step - loss: 0.6160 - accuracy: 0.7822 - val_loss: 0.6488 - val_accuracy: 0.7770\n",
            "Epoch 11/30\n",
            "782/782 [==============================] - 6s 7ms/step - loss: 0.5997 - accuracy: 0.7888 - val_loss: 0.6470 - val_accuracy: 0.7813\n",
            "Epoch 12/30\n",
            "782/782 [==============================] - 6s 7ms/step - loss: 0.5739 - accuracy: 0.7991 - val_loss: 0.6267 - val_accuracy: 0.7920\n",
            "Epoch 13/30\n",
            "782/782 [==============================] - 6s 7ms/step - loss: 0.5542 - accuracy: 0.8053 - val_loss: 0.6416 - val_accuracy: 0.7854\n",
            "Epoch 14/30\n",
            "782/782 [==============================] - 6s 7ms/step - loss: 0.5464 - accuracy: 0.8082 - val_loss: 0.6311 - val_accuracy: 0.7878\n",
            "Epoch 15/30\n",
            "782/782 [==============================] - 6s 7ms/step - loss: 0.5255 - accuracy: 0.8157 - val_loss: 0.6254 - val_accuracy: 0.7918\n",
            "Epoch 16/30\n",
            "782/782 [==============================] - 6s 7ms/step - loss: 0.5005 - accuracy: 0.8254 - val_loss: 0.6068 - val_accuracy: 0.7986\n",
            "Epoch 17/30\n",
            "782/782 [==============================] - 6s 7ms/step - loss: 0.4866 - accuracy: 0.8278 - val_loss: 0.6241 - val_accuracy: 0.7924\n",
            "Epoch 18/30\n",
            "782/782 [==============================] - 6s 7ms/step - loss: 0.4757 - accuracy: 0.8279 - val_loss: 0.6641 - val_accuracy: 0.7842\n",
            "Epoch 19/30\n",
            "782/782 [==============================] - 6s 7ms/step - loss: 0.4676 - accuracy: 0.8340 - val_loss: 0.6411 - val_accuracy: 0.7845\n",
            "Epoch 20/30\n",
            "782/782 [==============================] - 6s 7ms/step - loss: 0.4578 - accuracy: 0.8366 - val_loss: 0.6215 - val_accuracy: 0.7952\n",
            "Epoch 21/30\n",
            "782/782 [==============================] - 6s 7ms/step - loss: 0.4501 - accuracy: 0.8410 - val_loss: 0.6149 - val_accuracy: 0.8057\n",
            "Epoch 22/30\n",
            "782/782 [==============================] - 6s 7ms/step - loss: 0.4443 - accuracy: 0.8405 - val_loss: 0.6125 - val_accuracy: 0.7988\n",
            "Epoch 23/30\n",
            "782/782 [==============================] - 6s 7ms/step - loss: 0.4370 - accuracy: 0.8454 - val_loss: 0.6107 - val_accuracy: 0.7984\n",
            "Epoch 24/30\n",
            "782/782 [==============================] - 6s 7ms/step - loss: 0.4249 - accuracy: 0.8470 - val_loss: 0.6145 - val_accuracy: 0.8015\n",
            "Epoch 25/30\n",
            "782/782 [==============================] - 6s 7ms/step - loss: 0.4129 - accuracy: 0.8534 - val_loss: 0.6245 - val_accuracy: 0.8012\n",
            "Epoch 26/30\n",
            "782/782 [==============================] - 6s 7ms/step - loss: 0.4045 - accuracy: 0.8555 - val_loss: 0.6113 - val_accuracy: 0.8041\n",
            "Epoch 27/30\n",
            "782/782 [==============================] - 6s 7ms/step - loss: 0.4007 - accuracy: 0.8558 - val_loss: 0.6394 - val_accuracy: 0.8021\n",
            "Epoch 28/30\n",
            "782/782 [==============================] - 6s 7ms/step - loss: 0.3933 - accuracy: 0.8620 - val_loss: 0.6204 - val_accuracy: 0.8050\n",
            "Epoch 29/30\n",
            "782/782 [==============================] - 6s 7ms/step - loss: 0.3756 - accuracy: 0.8656 - val_loss: 0.6103 - val_accuracy: 0.8002\n",
            "Epoch 30/30\n",
            "782/782 [==============================] - 6s 7ms/step - loss: 0.3787 - accuracy: 0.8651 - val_loss: 0.6429 - val_accuracy: 0.8004\n"
          ],
          "name": "stdout"
        },
        {
          "output_type": "display_data",
          "data": {
            "image/png": "[encoded data removed]",
            "text/plain": [
              "<Figure size 432x288 with 1 Axes>"
            ]
          },
          "metadata": {
            "tags": [],
            "needs_background": "light"
          }
        },
        {
          "output_type": "display_data",
          "data": {
            "image/png": "[encoded data removed]",
            "text/plain": [
              "<Figure size 432x288 with 1 Axes>"
            ]
          },
          "metadata": {
            "tags": [],
            "needs_background": "light"
          }
        }
      ]
    },
    {
      "cell_type": "code",
      "metadata": {
        "id": "f36PexTd0J7X"
      },
      "source": [
        "# Save neural network structure\n",
        "model_structure = model.to_json()\n",
        "f = Path(\"model_structure.json\")\n",
        "f.write_text(model_structure)\n",
        "\n",
        "# Save neural network's trained weights\n",
        "model.save_weights(\"model_weights.h5\")\n"
      ],
      "execution_count": 10,
      "outputs": []
    },
    {
      "cell_type": "code",
      "metadata": {
        "colab": {
          "base_uri": "https://localhost:8080/"
        },
        "id": "QHGHchZN_zY2",
        "outputId": "d1e81721-33e9-43fc-b85f-d989486b4e88"
      },
      "source": [
        "model.summary()"
      ],
      "execution_count": 11,
      "outputs": [
        {
          "output_type": "stream",
          "text": [
            "Model: \"sequential\"\n",
            "_________________________________________________________________\n",
            "Layer (type)                 Output Shape              Param #   \n",
            "=================================================================\n",
            "conv2d (Conv2D)              (None, 32, 32, 32)        896       \n",
            "_________________________________________________________________\n",
            "conv2d_1 (Conv2D)            (None, 30, 30, 32)        9248      \n",
            "_________________________________________________________________\n",
            "max_pooling2d (MaxPooling2D) (None, 15, 15, 32)        0         \n",
            "_________________________________________________________________\n",
            "dropout (Dropout)            (None, 15, 15, 32)        0         \n",
            "_________________________________________________________________\n",
            "conv2d_2 (Conv2D)            (None, 15, 15, 64)        18496     \n",
            "_________________________________________________________________\n",
            "conv2d_3 (Conv2D)            (None, 13, 13, 64)        36928     \n",
            "_________________________________________________________________\n",
            "max_pooling2d_1 (MaxPooling2 (None, 6, 6, 64)          0         \n",
            "_________________________________________________________________\n",
            "dropout_1 (Dropout)          (None, 6, 6, 64)          0         \n",
            "_________________________________________________________________\n",
            "flatten (Flatten)            (None, 2304)              0         \n",
            "_________________________________________________________________\n",
            "dense (Dense)                (None, 512)               1180160   \n",
            "_________________________________________________________________\n",
            "dropout_2 (Dropout)          (None, 512)               0         \n",
            "_________________________________________________________________\n",
            "dense_1 (Dense)              (None, 10)                5130      \n",
            "=================================================================\n",
            "Total params: 1,250,858\n",
            "Trainable params: 1,250,858\n",
            "Non-trainable params: 0\n",
            "_________________________________________________________________\n"
          ],
          "name": "stdout"
        }
      ]
    }
  ]
}