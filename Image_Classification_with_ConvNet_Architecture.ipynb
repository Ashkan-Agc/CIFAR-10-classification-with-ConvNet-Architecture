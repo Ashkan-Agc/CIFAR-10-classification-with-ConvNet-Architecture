{
  "nbformat": 4,
  "nbformat_minor": 0,
  "metadata": {
    "colab": {
      "name": "Image-Classification-with-ConvNet-Architecture.ipynb",
      "provenance": [],
      "collapsed_sections": [],
      "toc_visible": true,
      "authorship_tag": "ABX9TyP8ZhJXChgyfxC7py4F9mO6",
      "include_colab_link": true
    },
    "kernelspec": {
      "name": "python3",
      "display_name": "Python 3"
    },
    "language_info": {
      "name": "python"
    },
    "accelerator": "GPU"
  },
  "cells": [
    {
      "cell_type": "markdown",
      "metadata": {
        "id": "view-in-github",
        "colab_type": "text"
      },
      "source": [
        "<a href=\"https://colab.research.google.com/github/Ashkan-Agc/Image-Classification-with-ConvNet-Architecture/blob/main/Image_Classification_with_ConvNet_Architecture.ipynb\" target=\"_parent\"><img src=\"https://colab.research.google.com/assets/colab-badge.svg\" alt=\"Open In Colab\"/></a>"
      ]
    },
    {
      "cell_type": "code",
      "metadata": {
        "id": "PY2A7YzNqWQy"
      },
      "source": [
        "import keras\n",
        "from keras.datasets import cifar10\n",
        "from keras.models import Sequential\n",
        "from keras.layers import Dense, Dropout, Flatten, Conv2D, MaxPooling2D\n",
        "from pathlib import Path\n",
        "from matplotlib import pyplot as plt"
      ],
      "execution_count": 1,
      "outputs": []
    },
    {
      "cell_type": "code",
      "metadata": {
        "id": "826KZYtYs9ci"
      },
      "source": [
        "# Load data set\n",
        "(x_train, y_train), (x_test, y_test) = cifar10.load_data()"
      ],
      "execution_count": 2,
      "outputs": []
    },
    {
      "cell_type": "code",
      "metadata": {
        "id": "bZ2XmLZus_5l"
      },
      "source": [
        "# Normalize data set to 0-to-1 range\n",
        "x_train = x_train.astype('float32')\n",
        "x_test = x_test.astype('float32')\n",
        "x_train /= 255\n",
        "x_test /= 255"
      ],
      "execution_count": 3,
      "outputs": []
    },
    {
      "cell_type": "code",
      "metadata": {
        "id": "Z_M68K3GtWOe"
      },
      "source": [
        "# Convert class vectors to binary class matrices\n",
        "y_train = keras.utils.to_categorical(y_train, 10)\n",
        "y_test = keras.utils.to_categorical(y_test, 10)"
      ],
      "execution_count": 4,
      "outputs": []
    },
    {
      "cell_type": "code",
      "metadata": {
        "id": "4LPOK5ukz5tr"
      },
      "source": [
        "# Create a model and add layers\n",
        "model = Sequential()\n",
        "\n",
        "model.add(Conv2D(32, (3, 3), padding='same', input_shape=(32, 32, 3), activation=\"relu\"))\n",
        "model.add(Conv2D(32, (3, 3), activation=\"relu\"))\n",
        "model.add(MaxPooling2D(pool_size=(2, 2)))\n",
        "model.add(Dropout(0.25))\n",
        "\n",
        "model.add(Conv2D(64, (3, 3), padding='same', activation=\"relu\"))\n",
        "model.add(Conv2D(64, (3, 3), activation=\"relu\"))\n",
        "model.add(MaxPooling2D(pool_size=(2, 2)))\n",
        "model.add(Dropout(0.25))\n",
        "\n",
        "model.add(Flatten())\n",
        "model.add(Dense(512, activation=\"relu\"))\n",
        "model.add(Dropout(0.5))\n",
        "model.add(Dense(10, activation=\"softmax\"))"
      ],
      "execution_count": 5,
      "outputs": []
    },
    {
      "cell_type": "code",
      "metadata": {
        "id": "ORL2zfpqz89_"
      },
      "source": [
        "# Compile the model\n",
        "model.compile(\n",
        "    loss='categorical_crossentropy',\n",
        "    optimizer='adam',\n",
        "    metrics=['accuracy']\n",
        ")"
      ],
      "execution_count": 6,
      "outputs": []
    },
    {
      "cell_type": "code",
      "metadata": {
        "colab": {
          "base_uri": "https://localhost:8080/",
          "height": 1000
        },
        "id": "itB26LoH0Aww",
        "outputId": "84ce67a4-4500-4b6c-beb4-06dc9046a1b1"
      },
      "source": [
        "# Train the model\n",
        "history = model.fit(\n",
        "    x_train,\n",
        "    y_train,\n",
        "    batch_size=64,\n",
        "    epochs=100,\n",
        "    validation_data=(x_test, y_test),\n",
        "    shuffle=True\n",
        ")\n",
        "\n",
        "plt.plot(history.history['accuracy'])\n",
        "plt.plot(history.history['val_accuracy'])\n",
        "plt.title('model accuracy')\n",
        "plt.ylabel('accuracy')\n",
        "plt.xlabel('epoch')\n",
        "plt.legend(['train', 'test'], loc='upper left')\n",
        "plt.show()\n",
        "\n",
        "plt.plot(history.history['loss'])\n",
        "plt.plot(history.history['val_loss'])\n",
        "plt.title('model loss')\n",
        "plt.ylabel('loss')\n",
        "plt.xlabel('epoch')\n",
        "plt.legend(['train', 'test'], loc='upper left')\n",
        "plt.show()"
      ],
      "execution_count": 7,
      "outputs": [
        {
          "output_type": "stream",
          "text": [
            "Epoch 1/100\n",
            "782/782 [==============================] - 9s 8ms/step - loss: 1.7986 - accuracy: 0.3323 - val_loss: 1.1770 - val_accuracy: 0.5763\n",
            "Epoch 2/100\n",
            "782/782 [==============================] - 6s 7ms/step - loss: 1.2095 - accuracy: 0.5648 - val_loss: 1.0190 - val_accuracy: 0.6432\n",
            "Epoch 3/100\n",
            "782/782 [==============================] - 6s 7ms/step - loss: 1.0060 - accuracy: 0.6431 - val_loss: 0.8630 - val_accuracy: 0.6908\n",
            "Epoch 4/100\n",
            "782/782 [==============================] - 6s 7ms/step - loss: 0.8705 - accuracy: 0.6963 - val_loss: 0.8145 - val_accuracy: 0.7187\n",
            "Epoch 5/100\n",
            "782/782 [==============================] - 6s 7ms/step - loss: 0.8092 - accuracy: 0.7165 - val_loss: 0.7914 - val_accuracy: 0.7261\n",
            "Epoch 6/100\n",
            "782/782 [==============================] - 6s 7ms/step - loss: 0.7657 - accuracy: 0.7309 - val_loss: 0.7449 - val_accuracy: 0.7426\n",
            "Epoch 7/100\n",
            "782/782 [==============================] - 6s 7ms/step - loss: 0.7044 - accuracy: 0.7525 - val_loss: 0.7250 - val_accuracy: 0.7540\n",
            "Epoch 8/100\n",
            "782/782 [==============================] - 6s 7ms/step - loss: 0.6683 - accuracy: 0.7636 - val_loss: 0.7101 - val_accuracy: 0.7518\n",
            "Epoch 9/100\n",
            "782/782 [==============================] - 6s 7ms/step - loss: 0.6363 - accuracy: 0.7766 - val_loss: 0.6709 - val_accuracy: 0.7699\n",
            "Epoch 10/100\n",
            "782/782 [==============================] - 6s 7ms/step - loss: 0.6059 - accuracy: 0.7857 - val_loss: 0.6600 - val_accuracy: 0.7751\n",
            "Epoch 11/100\n",
            "782/782 [==============================] - 6s 7ms/step - loss: 0.5826 - accuracy: 0.7932 - val_loss: 0.6780 - val_accuracy: 0.7720\n",
            "Epoch 12/100\n",
            "782/782 [==============================] - 6s 7ms/step - loss: 0.5592 - accuracy: 0.8007 - val_loss: 0.6304 - val_accuracy: 0.7884\n",
            "Epoch 13/100\n",
            "782/782 [==============================] - 6s 7ms/step - loss: 0.5395 - accuracy: 0.8096 - val_loss: 0.6899 - val_accuracy: 0.7680\n",
            "Epoch 14/100\n",
            "782/782 [==============================] - 6s 7ms/step - loss: 0.5247 - accuracy: 0.8140 - val_loss: 0.6344 - val_accuracy: 0.7868\n",
            "Epoch 15/100\n",
            "782/782 [==============================] - 6s 7ms/step - loss: 0.5021 - accuracy: 0.8205 - val_loss: 0.6389 - val_accuracy: 0.7872\n",
            "Epoch 16/100\n",
            "782/782 [==============================] - 6s 7ms/step - loss: 0.4852 - accuracy: 0.8284 - val_loss: 0.6304 - val_accuracy: 0.7845\n",
            "Epoch 17/100\n",
            "782/782 [==============================] - 6s 7ms/step - loss: 0.4733 - accuracy: 0.8323 - val_loss: 0.6285 - val_accuracy: 0.7921\n",
            "Epoch 18/100\n",
            "782/782 [==============================] - 6s 7ms/step - loss: 0.4611 - accuracy: 0.8334 - val_loss: 0.6483 - val_accuracy: 0.7853\n",
            "Epoch 19/100\n",
            "782/782 [==============================] - 6s 7ms/step - loss: 0.4469 - accuracy: 0.8394 - val_loss: 0.6523 - val_accuracy: 0.7873\n",
            "Epoch 20/100\n",
            "782/782 [==============================] - 6s 7ms/step - loss: 0.4402 - accuracy: 0.8450 - val_loss: 0.6489 - val_accuracy: 0.7911\n",
            "Epoch 21/100\n",
            "782/782 [==============================] - 6s 7ms/step - loss: 0.4205 - accuracy: 0.8503 - val_loss: 0.6315 - val_accuracy: 0.7895\n",
            "Epoch 22/100\n",
            "782/782 [==============================] - 6s 7ms/step - loss: 0.4138 - accuracy: 0.8517 - val_loss: 0.6302 - val_accuracy: 0.7970\n",
            "Epoch 23/100\n",
            "782/782 [==============================] - 6s 7ms/step - loss: 0.4078 - accuracy: 0.8546 - val_loss: 0.6390 - val_accuracy: 0.7933\n",
            "Epoch 24/100\n",
            "782/782 [==============================] - 6s 7ms/step - loss: 0.3943 - accuracy: 0.8613 - val_loss: 0.6336 - val_accuracy: 0.7936\n",
            "Epoch 25/100\n",
            "782/782 [==============================] - 6s 7ms/step - loss: 0.3879 - accuracy: 0.8583 - val_loss: 0.6478 - val_accuracy: 0.7910\n",
            "Epoch 26/100\n",
            "782/782 [==============================] - 6s 7ms/step - loss: 0.4014 - accuracy: 0.8563 - val_loss: 0.6444 - val_accuracy: 0.8012\n",
            "Epoch 27/100\n",
            "782/782 [==============================] - 6s 7ms/step - loss: 0.3763 - accuracy: 0.8655 - val_loss: 0.6589 - val_accuracy: 0.7963\n",
            "Epoch 28/100\n",
            "782/782 [==============================] - 6s 7ms/step - loss: 0.3768 - accuracy: 0.8669 - val_loss: 0.6235 - val_accuracy: 0.7994\n",
            "Epoch 29/100\n",
            "782/782 [==============================] - 6s 7ms/step - loss: 0.3772 - accuracy: 0.8671 - val_loss: 0.6580 - val_accuracy: 0.7988\n",
            "Epoch 30/100\n",
            "782/782 [==============================] - 6s 7ms/step - loss: 0.3690 - accuracy: 0.8687 - val_loss: 0.6292 - val_accuracy: 0.7988\n",
            "Epoch 31/100\n",
            "782/782 [==============================] - 6s 7ms/step - loss: 0.3513 - accuracy: 0.8744 - val_loss: 0.6543 - val_accuracy: 0.7936\n",
            "Epoch 32/100\n",
            "782/782 [==============================] - 6s 7ms/step - loss: 0.3618 - accuracy: 0.8722 - val_loss: 0.6555 - val_accuracy: 0.7996\n",
            "Epoch 33/100\n",
            "782/782 [==============================] - 6s 7ms/step - loss: 0.3567 - accuracy: 0.8749 - val_loss: 0.6468 - val_accuracy: 0.7952\n",
            "Epoch 34/100\n",
            "782/782 [==============================] - 6s 7ms/step - loss: 0.3458 - accuracy: 0.8776 - val_loss: 0.6727 - val_accuracy: 0.7926\n",
            "Epoch 35/100\n",
            "782/782 [==============================] - 6s 7ms/step - loss: 0.3417 - accuracy: 0.8777 - val_loss: 0.6596 - val_accuracy: 0.8002\n",
            "Epoch 36/100\n",
            "782/782 [==============================] - 6s 7ms/step - loss: 0.3366 - accuracy: 0.8816 - val_loss: 0.6537 - val_accuracy: 0.7957\n",
            "Epoch 37/100\n",
            "782/782 [==============================] - 6s 7ms/step - loss: 0.3285 - accuracy: 0.8832 - val_loss: 0.6698 - val_accuracy: 0.7975\n",
            "Epoch 38/100\n",
            "782/782 [==============================] - 6s 7ms/step - loss: 0.3271 - accuracy: 0.8831 - val_loss: 0.6745 - val_accuracy: 0.7937\n",
            "Epoch 39/100\n",
            "782/782 [==============================] - 6s 7ms/step - loss: 0.3304 - accuracy: 0.8830 - val_loss: 0.6445 - val_accuracy: 0.8011\n",
            "Epoch 40/100\n",
            "782/782 [==============================] - 6s 7ms/step - loss: 0.3307 - accuracy: 0.8850 - val_loss: 0.6940 - val_accuracy: 0.7927\n",
            "Epoch 41/100\n",
            "782/782 [==============================] - 6s 7ms/step - loss: 0.3157 - accuracy: 0.8902 - val_loss: 0.6786 - val_accuracy: 0.7930\n",
            "Epoch 42/100\n",
            "782/782 [==============================] - 6s 7ms/step - loss: 0.3150 - accuracy: 0.8875 - val_loss: 0.6749 - val_accuracy: 0.8006\n",
            "Epoch 43/100\n",
            "782/782 [==============================] - 6s 7ms/step - loss: 0.3144 - accuracy: 0.8909 - val_loss: 0.6811 - val_accuracy: 0.7953\n",
            "Epoch 44/100\n",
            "782/782 [==============================] - 6s 7ms/step - loss: 0.3133 - accuracy: 0.8894 - val_loss: 0.6769 - val_accuracy: 0.7968\n",
            "Epoch 45/100\n",
            "782/782 [==============================] - 6s 7ms/step - loss: 0.3177 - accuracy: 0.8906 - val_loss: 0.6637 - val_accuracy: 0.7962\n",
            "Epoch 46/100\n",
            "782/782 [==============================] - 6s 7ms/step - loss: 0.3096 - accuracy: 0.8917 - val_loss: 0.6922 - val_accuracy: 0.8024\n",
            "Epoch 47/100\n",
            "782/782 [==============================] - 6s 8ms/step - loss: 0.3014 - accuracy: 0.8970 - val_loss: 0.6692 - val_accuracy: 0.7997\n",
            "Epoch 48/100\n",
            "782/782 [==============================] - 6s 8ms/step - loss: 0.3045 - accuracy: 0.8950 - val_loss: 0.6575 - val_accuracy: 0.8011\n",
            "Epoch 49/100\n",
            "782/782 [==============================] - 6s 8ms/step - loss: 0.2936 - accuracy: 0.8973 - val_loss: 0.6636 - val_accuracy: 0.8042\n",
            "Epoch 50/100\n",
            "782/782 [==============================] - 6s 7ms/step - loss: 0.3054 - accuracy: 0.8931 - val_loss: 0.7016 - val_accuracy: 0.7980\n",
            "Epoch 51/100\n",
            "782/782 [==============================] - 6s 7ms/step - loss: 0.2941 - accuracy: 0.8966 - val_loss: 0.6777 - val_accuracy: 0.7978\n",
            "Epoch 52/100\n",
            "782/782 [==============================] - 6s 7ms/step - loss: 0.2967 - accuracy: 0.8960 - val_loss: 0.6825 - val_accuracy: 0.7983\n",
            "Epoch 53/100\n",
            "782/782 [==============================] - 6s 7ms/step - loss: 0.2895 - accuracy: 0.8981 - val_loss: 0.7049 - val_accuracy: 0.8009\n",
            "Epoch 54/100\n",
            "782/782 [==============================] - 6s 7ms/step - loss: 0.2851 - accuracy: 0.8971 - val_loss: 0.7039 - val_accuracy: 0.8051\n",
            "Epoch 55/100\n",
            "782/782 [==============================] - 6s 7ms/step - loss: 0.2719 - accuracy: 0.9058 - val_loss: 0.6660 - val_accuracy: 0.8020\n",
            "Epoch 56/100\n",
            "782/782 [==============================] - 6s 7ms/step - loss: 0.2834 - accuracy: 0.9013 - val_loss: 0.6705 - val_accuracy: 0.8015\n",
            "Epoch 57/100\n",
            "782/782 [==============================] - 6s 7ms/step - loss: 0.2814 - accuracy: 0.9019 - val_loss: 0.7037 - val_accuracy: 0.7909\n",
            "Epoch 58/100\n",
            "782/782 [==============================] - 6s 7ms/step - loss: 0.2890 - accuracy: 0.8991 - val_loss: 0.7077 - val_accuracy: 0.7995\n",
            "Epoch 59/100\n",
            "782/782 [==============================] - 6s 7ms/step - loss: 0.2856 - accuracy: 0.8989 - val_loss: 0.6975 - val_accuracy: 0.7992\n",
            "Epoch 60/100\n",
            "782/782 [==============================] - 6s 7ms/step - loss: 0.2861 - accuracy: 0.9028 - val_loss: 0.6653 - val_accuracy: 0.8062\n",
            "Epoch 61/100\n",
            "782/782 [==============================] - 6s 7ms/step - loss: 0.2729 - accuracy: 0.9051 - val_loss: 0.6992 - val_accuracy: 0.8004\n",
            "Epoch 62/100\n",
            "782/782 [==============================] - 6s 7ms/step - loss: 0.2912 - accuracy: 0.8989 - val_loss: 0.6668 - val_accuracy: 0.8063\n",
            "Epoch 63/100\n",
            "782/782 [==============================] - 6s 7ms/step - loss: 0.2663 - accuracy: 0.9075 - val_loss: 0.6743 - val_accuracy: 0.7981\n",
            "Epoch 64/100\n",
            "782/782 [==============================] - 6s 7ms/step - loss: 0.2741 - accuracy: 0.9040 - val_loss: 0.7083 - val_accuracy: 0.8027\n",
            "Epoch 65/100\n",
            "782/782 [==============================] - 6s 7ms/step - loss: 0.2659 - accuracy: 0.9055 - val_loss: 0.6898 - val_accuracy: 0.7980\n",
            "Epoch 66/100\n",
            "782/782 [==============================] - 6s 7ms/step - loss: 0.2652 - accuracy: 0.9076 - val_loss: 0.7050 - val_accuracy: 0.7996\n",
            "Epoch 67/100\n",
            "782/782 [==============================] - 6s 7ms/step - loss: 0.2671 - accuracy: 0.9079 - val_loss: 0.6580 - val_accuracy: 0.8031\n",
            "Epoch 68/100\n",
            "782/782 [==============================] - 6s 7ms/step - loss: 0.2679 - accuracy: 0.9073 - val_loss: 0.6868 - val_accuracy: 0.8054\n",
            "Epoch 69/100\n",
            "782/782 [==============================] - 6s 7ms/step - loss: 0.2721 - accuracy: 0.9049 - val_loss: 0.6916 - val_accuracy: 0.8052\n",
            "Epoch 70/100\n",
            "782/782 [==============================] - 6s 7ms/step - loss: 0.2597 - accuracy: 0.9115 - val_loss: 0.6725 - val_accuracy: 0.7976\n",
            "Epoch 71/100\n",
            "782/782 [==============================] - 6s 7ms/step - loss: 0.2585 - accuracy: 0.9120 - val_loss: 0.6942 - val_accuracy: 0.8017\n",
            "Epoch 72/100\n",
            "782/782 [==============================] - 6s 7ms/step - loss: 0.2576 - accuracy: 0.9110 - val_loss: 0.6956 - val_accuracy: 0.8004\n",
            "Epoch 73/100\n",
            "782/782 [==============================] - 6s 7ms/step - loss: 0.2517 - accuracy: 0.9122 - val_loss: 0.6936 - val_accuracy: 0.8005\n",
            "Epoch 74/100\n",
            "782/782 [==============================] - 6s 7ms/step - loss: 0.2545 - accuracy: 0.9111 - val_loss: 0.7355 - val_accuracy: 0.7972\n",
            "Epoch 75/100\n",
            "782/782 [==============================] - 6s 7ms/step - loss: 0.2620 - accuracy: 0.9097 - val_loss: 0.7178 - val_accuracy: 0.8035\n",
            "Epoch 76/100\n",
            "782/782 [==============================] - 6s 7ms/step - loss: 0.2538 - accuracy: 0.9123 - val_loss: 0.7278 - val_accuracy: 0.8007\n",
            "Epoch 77/100\n",
            "782/782 [==============================] - 6s 7ms/step - loss: 0.2507 - accuracy: 0.9120 - val_loss: 0.7222 - val_accuracy: 0.7965\n",
            "Epoch 78/100\n",
            "782/782 [==============================] - 6s 7ms/step - loss: 0.2599 - accuracy: 0.9090 - val_loss: 0.7383 - val_accuracy: 0.7983\n",
            "Epoch 79/100\n",
            "782/782 [==============================] - 6s 7ms/step - loss: 0.2637 - accuracy: 0.9103 - val_loss: 0.7187 - val_accuracy: 0.8003\n",
            "Epoch 80/100\n",
            "782/782 [==============================] - 6s 7ms/step - loss: 0.2478 - accuracy: 0.9137 - val_loss: 0.7019 - val_accuracy: 0.8020\n",
            "Epoch 81/100\n",
            "782/782 [==============================] - 6s 7ms/step - loss: 0.2443 - accuracy: 0.9150 - val_loss: 0.7128 - val_accuracy: 0.8052\n",
            "Epoch 82/100\n",
            "782/782 [==============================] - 6s 7ms/step - loss: 0.2430 - accuracy: 0.9162 - val_loss: 0.7116 - val_accuracy: 0.8036\n",
            "Epoch 83/100\n",
            "782/782 [==============================] - 6s 7ms/step - loss: 0.2506 - accuracy: 0.9142 - val_loss: 0.6990 - val_accuracy: 0.8001\n",
            "Epoch 84/100\n",
            "782/782 [==============================] - 6s 7ms/step - loss: 0.2597 - accuracy: 0.9122 - val_loss: 0.7372 - val_accuracy: 0.7990\n",
            "Epoch 85/100\n",
            "782/782 [==============================] - 6s 7ms/step - loss: 0.2499 - accuracy: 0.9135 - val_loss: 0.7050 - val_accuracy: 0.8056\n",
            "Epoch 86/100\n",
            "782/782 [==============================] - 6s 7ms/step - loss: 0.2331 - accuracy: 0.9197 - val_loss: 0.7622 - val_accuracy: 0.7995\n",
            "Epoch 87/100\n",
            "782/782 [==============================] - 6s 7ms/step - loss: 0.2464 - accuracy: 0.9169 - val_loss: 0.7162 - val_accuracy: 0.8077\n",
            "Epoch 88/100\n",
            "782/782 [==============================] - 6s 7ms/step - loss: 0.2510 - accuracy: 0.9147 - val_loss: 0.7452 - val_accuracy: 0.7969\n",
            "Epoch 89/100\n",
            "782/782 [==============================] - 6s 7ms/step - loss: 0.2427 - accuracy: 0.9156 - val_loss: 0.7156 - val_accuracy: 0.8071\n",
            "Epoch 90/100\n",
            "782/782 [==============================] - 6s 7ms/step - loss: 0.2390 - accuracy: 0.9162 - val_loss: 0.7305 - val_accuracy: 0.7973\n",
            "Epoch 91/100\n",
            "782/782 [==============================] - 6s 7ms/step - loss: 0.2410 - accuracy: 0.9164 - val_loss: 0.7031 - val_accuracy: 0.8003\n",
            "Epoch 92/100\n",
            "782/782 [==============================] - 6s 7ms/step - loss: 0.2432 - accuracy: 0.9158 - val_loss: 0.7346 - val_accuracy: 0.8031\n",
            "Epoch 93/100\n",
            "782/782 [==============================] - 6s 7ms/step - loss: 0.2425 - accuracy: 0.9171 - val_loss: 0.6900 - val_accuracy: 0.8047\n",
            "Epoch 94/100\n",
            "782/782 [==============================] - 6s 7ms/step - loss: 0.2382 - accuracy: 0.9184 - val_loss: 0.7330 - val_accuracy: 0.7959\n",
            "Epoch 95/100\n",
            "782/782 [==============================] - 6s 7ms/step - loss: 0.2388 - accuracy: 0.9194 - val_loss: 0.7218 - val_accuracy: 0.7968\n",
            "Epoch 96/100\n",
            "782/782 [==============================] - 6s 7ms/step - loss: 0.2377 - accuracy: 0.9185 - val_loss: 0.7128 - val_accuracy: 0.8044\n",
            "Epoch 97/100\n",
            "782/782 [==============================] - 6s 7ms/step - loss: 0.2325 - accuracy: 0.9195 - val_loss: 0.7234 - val_accuracy: 0.8022\n",
            "Epoch 98/100\n",
            "782/782 [==============================] - 6s 7ms/step - loss: 0.2353 - accuracy: 0.9189 - val_loss: 0.7860 - val_accuracy: 0.8009\n",
            "Epoch 99/100\n",
            "782/782 [==============================] - 6s 7ms/step - loss: 0.2346 - accuracy: 0.9190 - val_loss: 0.6929 - val_accuracy: 0.8090\n",
            "Epoch 100/100\n",
            "782/782 [==============================] - 6s 7ms/step - loss: 0.2369 - accuracy: 0.9176 - val_loss: 0.7204 - val_accuracy: 0.8028\n"
          ],
          "name": "stdout"
        },
        {
          "output_type": "display_data",
          "data": {
            "image/png": "[encoded data removed]",
            "text/plain": [
              "<Figure size 432x288 with 1 Axes>"
            ]
          },
          "metadata": {
            "tags": [],
            "needs_background": "light"
          }
        },
        {
          "output_type": "display_data",
          "data": {
            "image/png": "[encoded data removed]",
            "text/plain": [
              "<Figure size 432x288 with 1 Axes>"
            ]
          },
          "metadata": {
            "tags": [],
            "needs_background": "light"
          }
        }
      ]
    },
    {
      "cell_type": "code",
      "metadata": {
        "id": "f36PexTd0J7X"
      },
      "source": [
        "# Save neural network structure\n",
        "model_structure = model.to_json()\n",
        "f = Path(\"model_structure.json\")\n",
        "f.write_text(model_structure)\n",
        "\n",
        "# Save neural network's trained weights\n",
        "model.save_weights(\"model_weights.h5\")\n"
      ],
      "execution_count": 8,
      "outputs": []
    },
    {
      "cell_type": "code",
      "metadata": {
        "colab": {
          "base_uri": "https://localhost:8080/"
        },
        "id": "QHGHchZN_zY2",
        "outputId": "cd4619d1-2f22-472f-fd51-510c1ad3b88a"
      },
      "source": [
        "model.summary()"
      ],
      "execution_count": 9,
      "outputs": [
        {
          "output_type": "stream",
          "text": [
            "Model: \"sequential\"\n",
            "_________________________________________________________________\n",
            "Layer (type)                 Output Shape              Param #   \n",
            "=================================================================\n",
            "conv2d (Conv2D)              (None, 32, 32, 32)        896       \n",
            "_________________________________________________________________\n",
            "conv2d_1 (Conv2D)            (None, 30, 30, 32)        9248      \n",
            "_________________________________________________________________\n",
            "max_pooling2d (MaxPooling2D) (None, 15, 15, 32)        0         \n",
            "_________________________________________________________________\n",
            "dropout (Dropout)            (None, 15, 15, 32)        0         \n",
            "_________________________________________________________________\n",
            "conv2d_2 (Conv2D)            (None, 15, 15, 64)        18496     \n",
            "_________________________________________________________________\n",
            "conv2d_3 (Conv2D)            (None, 13, 13, 64)        36928     \n",
            "_________________________________________________________________\n",
            "max_pooling2d_1 (MaxPooling2 (None, 6, 6, 64)          0         \n",
            "_________________________________________________________________\n",
            "dropout_1 (Dropout)          (None, 6, 6, 64)          0         \n",
            "_________________________________________________________________\n",
            "flatten (Flatten)            (None, 2304)              0         \n",
            "_________________________________________________________________\n",
            "dense (Dense)                (None, 512)               1180160   \n",
            "_________________________________________________________________\n",
            "dropout_2 (Dropout)          (None, 512)               0         \n",
            "_________________________________________________________________\n",
            "dense_1 (Dense)              (None, 10)                5130      \n",
            "=================================================================\n",
            "Total params: 1,250,858\n",
            "Trainable params: 1,250,858\n",
            "Non-trainable params: 0\n",
            "_________________________________________________________________\n"
          ],
          "name": "stdout"
        }
      ]
    }
  ]
}